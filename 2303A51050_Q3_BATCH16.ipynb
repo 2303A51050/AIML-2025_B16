{
  "nbformat": 4,
  "nbformat_minor": 0,
  "metadata": {
    "colab": {
      "provenance": [],
      "authorship_tag": "ABX9TyN+F8ANCR/9/RBo4VmjIQKo",
      "include_colab_link": true
    },
    "kernelspec": {
      "name": "python3",
      "display_name": "Python 3"
    },
    "language_info": {
      "name": "python"
    }
  },
  "cells": [
    {
      "cell_type": "markdown",
      "metadata": {
        "id": "view-in-github",
        "colab_type": "text"
      },
      "source": [
        "<a href=\"https://colab.research.google.com/github/2303A51050/AIML-2025_B16/blob/main/2303A51050_Q3_BATCH16.ipynb\" target=\"_parent\"><img src=\"https://colab.research.google.com/assets/colab-badge.svg\" alt=\"Open In Colab\"/></a>"
      ]
    },
    {
      "cell_type": "code",
      "execution_count": 8,
      "metadata": {
        "colab": {
          "base_uri": "https://localhost:8080/"
        },
        "id": "90ybmITU_slq",
        "outputId": "2184fda1-7508-4df2-bca7-a061fbacb340"
      },
      "outputs": [
        {
          "output_type": "stream",
          "name": "stdout",
          "text": [
            "Top 10 Startups in Turkey:\n",
            "                                             proje_adi  toplanan_tutar  \\\n",
            "1259               Virüslerle Mücadelede Son Teknoloji         2666800   \n",
            "1586              Wollox Pro - Ekranlarını Özgürleştir         1647420   \n",
            "1572                  Ape Drone Teknolojileri Sunar: X          783955   \n",
            "1076                                            Blok-Z          563500   \n",
            "1566                     Outliers | Akıllı Not Defteri          339658   \n",
            "1568             MAKEY 2.0 | Modüler Elektronik Yapboz          267272   \n",
            "662   KUMBARACI50 KAPANMASIN / HİÇBİR SAHNE KAPANMASIN          264150   \n",
            "1579                   Drivee SafeCall: Hayat kurtarır          235949   \n",
            "1588            Wollox - İnteraktif  Ekran Dönüştürücü          232528   \n",
            "95                        Kazdağları Dayanışma Çağrısı          207200   \n",
            "\n",
            "      hedef_miktari destek_orani basari_durumu  \n",
            "1259          23600       11300%      başarılı  \n",
            "1586         200000         823%      başarılı  \n",
            "1572         200000         391%      başarılı  \n",
            "1076          25000        2254%      başarılı  \n",
            "1566         100000         339%      başarılı  \n",
            "1568         100000         267%      başarılı  \n",
            "662          200000         132%      başarılı  \n",
            "1579         130000         181%      başarılı  \n",
            "1588         200000         116%      başarılı  \n",
            "95           200000         103%      başarılı  \n"
          ]
        }
      ],
      "source": [
        "import pandas as pd\n",
        "file_path = \"/content/turkishCF.csv\"\n",
        "data = pd.read_csv(file_path, delimiter=';', encoding='utf-8-sig')\n",
        "top_10_startups = data.nlargest(10, 'toplanan_tutar')[['proje_adi', 'toplanan_tutar', 'hedef_miktari', 'destek_orani', 'basari_durumu']]\n",
        "print(\"Top 10 Startups in Turkey:\")\n",
        "print(top_10_startups)"
      ]
    },
    {
      "cell_type": "code",
      "source": [
        "import pandas as pd\n",
        "file_path = \"/content/turkishCF.csv\"\n",
        "data = pd.read_csv(file_path, delimiter=';', encoding='utf-8-sig')\n",
        "max_funding = data['toplanan_tutar'].max()\n",
        "min_funding = data['toplanan_tutar'].min()\n",
        "print(f\"Maximum Crowdsourced Funding in Turkey: {max_funding}\")\n",
        "print(f\"Minimum Crowdsourced Funding in Turkey: {min_funding}\")"
      ],
      "metadata": {
        "colab": {
          "base_uri": "https://localhost:8080/"
        },
        "id": "VkzZm_rUE9Ua",
        "outputId": "961104d7-6677-4ac4-8e48-4ff21f4c0890"
      },
      "execution_count": 9,
      "outputs": [
        {
          "output_type": "stream",
          "name": "stdout",
          "text": [
            "Maximum Crowdsourced Funding in Turkey: 2666800\n",
            "Minimum Crowdsourced Funding in Turkey: 0\n"
          ]
        }
      ]
    },
    {
      "cell_type": "code",
      "source": [
        "import pandas as pd\n",
        "file_path = \"/content/turkishCF.csv\"\n",
        "data = pd.read_csv(file_path, delimiter=';', encoding='utf-8-sig')\n",
        "gender_funding = data.groupby('proje_sahibi_cinsiyet')['toplanan_tutar'].sum()\n",
        "most_funded_gender = gender_funding.idxmax()\n",
        "most_funded_amount = gender_funding.max()\n",
        "print(f\"The gender that acquired the most funding: {most_funded_gender}\")\n",
        "print(f\"Total funding acquired by this gender: {most_funded_amount}\")"
      ],
      "metadata": {
        "colab": {
          "base_uri": "https://localhost:8080/"
        },
        "id": "UijZA-c6FRF-",
        "outputId": "f6c82f63-d0f3-4b90-c814-0cb2c2e16afe"
      },
      "execution_count": 10,
      "outputs": [
        {
          "output_type": "stream",
          "name": "stdout",
          "text": [
            "The gender that acquired the most funding: erkek\n",
            "Total funding acquired by this gender: 11679279\n"
          ]
        }
      ]
    },
    {
      "cell_type": "code",
      "source": [
        "import pandas as pd\n",
        "file_path = \"/content/turkishCF.csv\"\n",
        "data = pd.read_csv(file_path, delimiter=';', encoding='utf-8-sig')\n",
        "city_counts = data['konum'].value_counts()\n",
        "top_5_cities = city_counts.head(5)\n",
        "print(\"Top 5 Cities with the Most Startups:\")\n",
        "print(top_5_cities)"
      ],
      "metadata": {
        "colab": {
          "base_uri": "https://localhost:8080/"
        },
        "id": "oacs1czcFkwR",
        "outputId": "18f2894a-c0d7-4359-d994-505c689342ce"
      },
      "execution_count": 11,
      "outputs": [
        {
          "output_type": "stream",
          "name": "stdout",
          "text": [
            "Top 5 Cities with the Most Startups:\n",
            "konum\n",
            "istanbul    547\n",
            "belirsiz    367\n",
            "ankara      107\n",
            "genel        97\n",
            "izmir        76\n",
            "Name: count, dtype: int64\n"
          ]
        }
      ]
    },
    {
      "cell_type": "code",
      "source": [
        "import pandas as pd\n",
        "file_path = \"/content/turkishCF.csv\"\n",
        "data = pd.read_csv(file_path, delimiter=';', encoding='utf-8-sig')\n",
        "top_technologies = data['kategori'].value_counts().head(5)\n",
        "print(\"Top 5 Technologies Popular in Turkish Startups:\")\n",
        "print(top_technologies)"
      ],
      "metadata": {
        "colab": {
          "base_uri": "https://localhost:8080/"
        },
        "id": "NcN8UgxtF66_",
        "outputId": "563b4592-5ad8-4d73-e7a2-d42b0da8b57a"
      },
      "execution_count": 13,
      "outputs": [
        {
          "output_type": "stream",
          "name": "stdout",
          "text": [
            "Top 5 Technologies Popular in Turkish Startups:\n",
            "kategori\n",
            "film-video-fotoğraf    389\n",
            "teknoloji              343\n",
            "kültür-sanat           194\n",
            "eğitim                 186\n",
            "diğer                  155\n",
            "Name: count, dtype: int64\n"
          ]
        }
      ]
    },
    {
      "cell_type": "code",
      "source": [
        "import pandas as pd\n",
        "from sklearn.model_selection import train_test_split\n",
        "from sklearn.linear_model import LinearRegression\n",
        "from sklearn.metrics import mean_squared_error, mean_absolute_error, r2_score\n",
        "file_path = \"/content/turkishCF.csv\"\n",
        "data = pd.read_csv(file_path, delimiter=';', encoding='utf-8-sig')\n",
        "features = ['hedef_miktari', 'destekci_sayisi', 'ekip_kisi_sayisi', 'sm_takipci']\n",
        "target = 'toplanan_tutar'\n",
        "data = data.dropna(subset=features + [target])\n",
        "X = data[features]\n",
        "y = data[target]\n",
        "X_train, X_test, y_train, y_test = train_test_split(X, y, test_size=0.2, random_state=42)\n",
        "model = LinearRegression()\n",
        "model.fit(X_train, y_train)\n",
        "y_pred = model.predict(X_test)\n",
        "mse = mean_squared_error(y_test, y_pred)\n",
        "mae = mean_absolute_error(y_test, y_pred)\n",
        "r2 = r2_score(y_test, y_pred)\n",
        "print(\"Regression Model Evaluation:\")\n",
        "print(f\"Mean Squared Error (MSE): {mse}\")\n",
        "print(f\"Mean Absolute Error (MAE): {mae}\")\n",
        "print(f\"R-squared (R2): {r2}\")"
      ],
      "metadata": {
        "colab": {
          "base_uri": "https://localhost:8080/"
        },
        "id": "O7FnB2ERGMO5",
        "outputId": "6016f6a2-ecfe-4cab-85d4-50ffc2ffbd35"
      },
      "execution_count": 14,
      "outputs": [
        {
          "output_type": "stream",
          "name": "stdout",
          "text": [
            "Regression Model Evaluation:\n",
            "Mean Squared Error (MSE): 21976704996.952927\n",
            "Mean Absolute Error (MAE): 16124.8219119178\n",
            "R-squared (R2): 0.008457457147853176\n"
          ]
        }
      ]
    }
  ]
}